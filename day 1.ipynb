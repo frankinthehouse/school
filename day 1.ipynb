{
 "cells": [
  {
   "cell_type": "code",
   "execution_count": 4,
   "id": "7b48b729-af34-45bc-a135-cf8c283109d5",
   "metadata": {},
   "outputs": [
    {
     "data": {
      "text/plain": [
       "3"
      ]
     },
     "execution_count": 4,
     "metadata": {},
     "output_type": "execute_result"
    }
   ],
   "source": [
    "1 + 2 "
   ]
  },
  {
   "cell_type": "code",
   "execution_count": 5,
   "id": "872fbcdb-3341-499d-90ef-ec7389f50550",
   "metadata": {},
   "outputs": [
    {
     "name": "stdout",
     "output_type": "stream",
     "text": [
      "hello world\n"
     ]
    }
   ],
   "source": [
    "print('hello world')"
   ]
  },
  {
   "cell_type": "code",
   "execution_count": 6,
   "id": "96caa9ab-6a51-4e93-956b-a56679fadf8c",
   "metadata": {},
   "outputs": [
    {
     "name": "stdout",
     "output_type": "stream",
     "text": [
      "Hello world\n"
     ]
    }
   ],
   "source": [
    "print(\"Hello world\")"
   ]
  },
  {
   "cell_type": "code",
   "execution_count": 7,
   "id": "3847216a-cc50-44db-bfa2-2e4a56f51fbe",
   "metadata": {},
   "outputs": [
    {
     "data": {
      "text/plain": [
       "25"
      ]
     },
     "execution_count": 7,
     "metadata": {},
     "output_type": "execute_result"
    }
   ],
   "source": [
    "5 * 5"
   ]
  },
  {
   "cell_type": "code",
   "execution_count": 9,
   "id": "ce8068f9-2bf1-448b-b3e3-d368b100e644",
   "metadata": {},
   "outputs": [
    {
     "name": "stdout",
     "output_type": "stream",
     "text": [
      "17\n"
     ]
    }
   ],
   "source": [
    "a=5\n",
    "c=9\n",
    "b=12\n",
    "\n",
    "print(a+b)"
   ]
  },
  {
   "cell_type": "code",
   "execution_count": 13,
   "id": "b63202b4-4f86-4f90-ab88-fc8be52a9ea8",
   "metadata": {},
   "outputs": [
    {
     "name": "stdout",
     "output_type": "stream",
     "text": [
      "5\n",
      "<class 'int'>\n",
      "123.34\n",
      "123\n",
      "<class 'float'>\n"
     ]
    }
   ],
   "source": [
    "a=5\n",
    "b=123.34\n",
    "\n",
    "print(a)\n",
    "print(type(a))\n",
    "print(b)\n",
    "print(int(b))\n",
    "print(type(b))"
   ]
  },
  {
   "cell_type": "code",
   "execution_count": 26,
   "id": "189df6b2-cbf3-4022-a325-5504057c3c4f",
   "metadata": {},
   "outputs": [
    {
     "name": "stdout",
     "output_type": "stream",
     "text": [
      "20 <class 'int'>\n",
      "6 <class 'int'>\n",
      "26 <class 'int'>\n",
      "14 <class 'int'>\n",
      "120 <class 'int'>\n",
      "120.0 <class 'float'>\n",
      "3.3333333333333335 <class 'float'>\n",
      "3 <class 'int'>\n",
      "64000000 <class 'int'>\n",
      "2 <class 'int'>\n"
     ]
    }
   ],
   "source": [
    "a=20\n",
    "b=6\n",
    "c=a+b  #加法\n",
    "d=a-b  #減法\n",
    "e=a*b  #乘法\n",
    "f=a/b  #除法\n",
    "g=a**b #次方\n",
    "h=a%b  #除法的餘數\n",
    "\n",
    "print(a,type(a))\n",
    "print(b,type(b))\n",
    "print(c,type(c))\n",
    "print(d,type(d))\n",
    "print(e,type(e))\n",
    "e=float(e)\n",
    "print(e,type(e))\n",
    "print(f,type(f))\n",
    "f=int(f)\n",
    "print(f,type(f))\n",
    "print(g,type(g))\n",
    "print(h,type(h))"
   ]
  },
  {
   "cell_type": "code",
   "execution_count": 20,
   "id": "cb1ffe3e-3399-47ce-9bf6-c2b79a1dbfd6",
   "metadata": {},
   "outputs": [
    {
     "name": "stdout",
     "output_type": "stream",
     "text": [
      "56\n"
     ]
    }
   ],
   "source": [
    "a=\"abc\"\n",
    "b=\"cde\"\n",
    "c=a+b\n",
    "\n",
    "d=\"5\"\n",
    "f=\"6\"\n",
    "t=d+f\n",
    "print (t)"
   ]
  },
  {
   "cell_type": "code",
   "execution_count": 30,
   "id": "8ec6e000-8d22-49cc-8d4a-1d61f20eec5b",
   "metadata": {},
   "outputs": [
    {
     "name": "stdout",
     "output_type": "stream",
     "text": [
      "y\n",
      "py\n"
     ]
    }
   ],
   "source": [
    "a=\"python\"\n",
    "\n",
    "print(a[1])\n",
    "print(a[0:2])\n"
   ]
  },
  {
   "cell_type": "code",
   "execution_count": 37,
   "id": "b693b46e-b126-4b08-a7c8-61919b84cdc7",
   "metadata": {},
   "outputs": [
    {
     "name": "stdout",
     "output_type": "stream",
     "text": [
      "y <class 'list'>\n"
     ]
    }
   ],
   "source": [
    "a=[5,3.14,\"python\",[1,2,3]] # list 清單 的類型 可以包含各種類型的東西 數值，字串，list\n",
    "\n",
    "print(a[2][1],type(a))"
   ]
  },
  {
   "cell_type": "code",
   "execution_count": 36,
   "id": "5943d683-862c-402d-a95c-bc3001ac4504",
   "metadata": {},
   "outputs": [
    {
     "name": "stdout",
     "output_type": "stream",
     "text": [
      "45 <class 'dict'>\n"
     ]
    }
   ],
   "source": [
    "menu={\"滷肉飯\":45,\"牛肉麵\":105} \n",
    "\n",
    "print(menu[\"滷肉飯\"],type(menu))"
   ]
  },
  {
   "cell_type": "code",
   "execution_count": null,
   "id": "e120f960-81c4-4c0b-ab7b-f8a684697785",
   "metadata": {},
   "outputs": [],
   "source": []
  }
 ],
 "metadata": {
  "kernelspec": {
   "display_name": "Python 3 (ipykernel)",
   "language": "python",
   "name": "python3"
  },
  "language_info": {
   "codemirror_mode": {
    "name": "ipython",
    "version": 3
   },
   "file_extension": ".py",
   "mimetype": "text/x-python",
   "name": "python",
   "nbconvert_exporter": "python",
   "pygments_lexer": "ipython3",
   "version": "3.11.7"
  }
 },
 "nbformat": 4,
 "nbformat_minor": 5
}
