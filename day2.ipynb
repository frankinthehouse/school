{
 "cells": [
  {
   "cell_type": "code",
   "execution_count": 26,
   "id": "0abbdb70-c344-4051-b746-e473a1f35fa5",
   "metadata": {},
   "outputs": [
    {
     "name": "stdout",
     "output_type": "stream",
     "text": [
      "nomoney to buy apple\n",
      "money: 100\n",
      "apple_num: 0\n"
     ]
    }
   ],
   "source": [
    "apple_price=20\n",
    "money=100\n",
    "apple_num=0\n",
    "\n",
    "if apple_price>=money :\n",
    "    print(\"nomoney to buy apple\")\n",
    "    \n",
    "elif money>=apple_price: \n",
    "#money=money-apple_price 可以寫為下面方式\n",
    "    money-=apple_price\n",
    "#apple_num=apple_num+1 可以寫為下面的方式\n",
    "    apple_num+=1\n",
    "\n",
    "\n",
    "\n",
    "print(\"money:\",money)\n",
    "print(\"apple_num:\",apple_num)\n",
    "\n"
   ]
  },
  {
   "cell_type": "code",
   "execution_count": 35,
   "id": "94cfafbe-885a-44c3-bce2-4610440e35c7",
   "metadata": {},
   "outputs": [
    {
     "name": "stdout",
     "output_type": "stream",
     "text": [
      "no money\n",
      "money: 100\n",
      "apple_num: 0\n"
     ]
    }
   ],
   "source": [
    "apple_price=130\n",
    "money=100\n",
    "apple_num=0\n",
    "wm=1\n",
    "\n",
    "if wm>=1:\n",
    "    if money>=apple_price:\n",
    "        money-=apple_price\n",
    "        apple_num+=1\n",
    "    else:\n",
    "        print(\"no money\")\n",
    "    \n",
    "elif money>=apple_price*5:\n",
    "    money-=apple_price*5\n",
    "    apple_num+=5\n",
    "else:\n",
    "    print(\"not today\")\n",
    "\n",
    "print(\"money:\",money)\n",
    "print(\"apple_num:\",apple_num)"
   ]
  },
  {
   "cell_type": "code",
   "execution_count": 46,
   "id": "abc7dab8-70f8-40c6-b756-fea1b8edbc54",
   "metadata": {},
   "outputs": [
    {
     "name": "stdin",
     "output_type": "stream",
     "text": [
      "請輸入分數 60\n"
     ]
    },
    {
     "name": "stdout",
     "output_type": "stream",
     "text": [
      "D\n"
     ]
    }
   ],
   "source": [
    "score=input(\"請輸入分數\")\n",
    "score=int(score)\n",
    "\n",
    "if score>=0 and score<=100:\n",
    "    if score==100:\n",
    "        print(\"A\")    \n",
    "    elif score>=80:\n",
    "        print(\"B\")\n",
    "    elif score>=70:\n",
    "        print(\"C\")\n",
    "    elif score>=60:\n",
    "        print(\"D\")\n",
    "    elif score<=60:\n",
    "        print(\"E\")\n",
    "else:\n",
    "    print(\"ERR score\")"
   ]
  },
  {
   "cell_type": "code",
   "execution_count": 66,
   "id": "4471fa2c-5afc-4fba-99d5-5da925cf3cf0",
   "metadata": {},
   "outputs": [
    {
     "name": "stdin",
     "output_type": "stream",
     "text": [
      "youmoney 500\n"
     ]
    },
    {
     "name": "stdout",
     "output_type": "stream",
     "text": [
      "買到超重\n",
      "money: 300\n",
      "apple_num: 10\n"
     ]
    }
   ],
   "source": [
    "apple_price=20\n",
    "money=input(\"youmoney\")\n",
    "money=int(money)\n",
    "apple_num=0\n",
    "\n",
    "if apple_price>=money :\n",
    "    print(\"nomoney to buy apple\")\n",
    "\n",
    "elif money>=apple_price:\n",
    "    while money>=apple_price:\n",
    "        if apple_num>=10:\n",
    "            print(\"買到超重\")\n",
    "            break\n",
    "    #money=money-apple_price 可以寫為下面方式\n",
    "        money-=apple_price\n",
    "    #apple_num=apple_num+1 可以寫為下面的方式\n",
    "        apple_num+=1\n",
    "    else:\n",
    "        print(\"購買完成\")\n",
    "            \n",
    "\n",
    "else:\n",
    "    print(\"err\")\n",
    "\n",
    "\n",
    "print(\"money:\",money)\n",
    "print(\"apple_num:\",apple_num)"
   ]
  },
  {
   "cell_type": "code",
   "execution_count": 1,
   "id": "e9ef0117-c507-4aaf-9a42-0e0246adb50f",
   "metadata": {},
   "outputs": [
    {
     "name": "stdout",
     "output_type": "stream",
     "text": [
      "1\n",
      "2\n",
      "3\n",
      "4\n",
      "5\n",
      "6\n",
      "7\n",
      "8\n",
      "9\n",
      "10\n",
      "11\n",
      "12\n",
      "13\n",
      "14\n",
      "15\n",
      "16\n",
      "17\n",
      "18\n",
      "19\n",
      "20\n",
      "21\n",
      "22\n",
      "23\n",
      "24\n",
      "25\n",
      "26\n",
      "27\n",
      "28\n",
      "29\n",
      "30\n",
      "31\n",
      "32\n",
      "33\n",
      "34\n",
      "35\n",
      "36\n",
      "37\n",
      "38\n",
      "39\n",
      "40\n",
      "41\n",
      "42\n",
      "43\n",
      "44\n",
      "45\n",
      "46\n",
      "47\n",
      "48\n",
      "49\n",
      "50\n",
      "51\n",
      "52\n",
      "53\n",
      "54\n",
      "55\n",
      "56\n",
      "57\n",
      "58\n",
      "59\n",
      "60\n",
      "61\n",
      "62\n",
      "63\n",
      "64\n",
      "65\n",
      "66\n",
      "67\n",
      "68\n",
      "69\n",
      "70\n",
      "71\n",
      "72\n",
      "73\n",
      "74\n",
      "75\n",
      "76\n",
      "77\n",
      "78\n",
      "79\n",
      "80\n",
      "81\n",
      "82\n",
      "83\n",
      "84\n",
      "85\n",
      "86\n",
      "87\n",
      "88\n",
      "89\n",
      "90\n",
      "91\n",
      "92\n",
      "93\n",
      "94\n",
      "95\n",
      "96\n",
      "97\n",
      "98\n",
      "99\n",
      "100\n"
     ]
    }
   ],
   "source": [
    "count=0\n",
    "\n",
    "while count<100:\n",
    "    count+=1\n",
    "    print(count)\n"
   ]
  },
  {
   "cell_type": "code",
   "execution_count": 2,
   "id": "0c296e5b-80cb-4298-bae3-abdced24ebe9",
   "metadata": {},
   "outputs": [
    {
     "name": "stdout",
     "output_type": "stream",
     "text": [
      "跟 熊先生 握手\n",
      "跟 林小姐 握手\n",
      "跟 吳同學 握手\n"
     ]
    }
   ],
   "source": [
    "a_class=[\"熊先生\",\"林小姐\",\"吳同學\"]\n",
    "\n",
    "for stu in a_class:\n",
    "    print(\"跟\",stu,\"握手\")"
   ]
  },
  {
   "cell_type": "code",
   "execution_count": 3,
   "id": "aee55c01-1b1d-4ca4-af09-42764db0cfe7",
   "metadata": {},
   "outputs": [
    {
     "name": "stdout",
     "output_type": "stream",
     "text": [
      "p\n",
      "y\n",
      "t\n",
      "h\n",
      "o\n",
      "n\n"
     ]
    }
   ],
   "source": [
    "a=\"python\"\n",
    "\n",
    "for char in a:\n",
    "    print(char)"
   ]
  },
  {
   "cell_type": "code",
   "execution_count": 9,
   "id": "e7f1c355-466b-4898-b522-136f677bb179",
   "metadata": {},
   "outputs": [
    {
     "name": "stdout",
     "output_type": "stream",
     "text": [
      "滷肉飯 45\n",
      "45\n",
      "牛肉麵 105\n",
      "105\n",
      "燙青菜 60\n",
      "60\n"
     ]
    }
   ],
   "source": [
    "menu={\"滷肉飯\":45,\"牛肉麵\":105,\"燙青菜\":60}\n",
    "\n",
    "for food in menu:\n",
    "    print(food,menu[food])\n",
    "    print(menu[food])"
   ]
  },
  {
   "cell_type": "code",
   "execution_count": null,
   "id": "d1028c3a-6353-4c61-b445-0fd980b9e61d",
   "metadata": {},
   "outputs": [],
   "source": []
  }
 ],
 "metadata": {
  "kernelspec": {
   "display_name": "Python 3 (ipykernel)",
   "language": "python",
   "name": "python3"
  },
  "language_info": {
   "codemirror_mode": {
    "name": "ipython",
    "version": 3
   },
   "file_extension": ".py",
   "mimetype": "text/x-python",
   "name": "python",
   "nbconvert_exporter": "python",
   "pygments_lexer": "ipython3",
   "version": "3.11.7"
  }
 },
 "nbformat": 4,
 "nbformat_minor": 5
}
