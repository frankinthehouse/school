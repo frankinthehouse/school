{
 "cells": [
  {
   "cell_type": "code",
   "execution_count": 6,
   "id": "604ce40a-657b-4ad5-bdc5-026bb96b29fd",
   "metadata": {},
   "outputs": [],
   "source": [
    "import openpyxl\n",
    "\n",
    "    #開execl 的新工作區\n",
    "wb=openpyxl.Workbook()\n",
    "\n",
    "    #開工作區的新分頁\n",
    "ws=wb.active\n",
    "\n",
    "ws[\"A1\"]=\"職缺名稱\"\n",
    "ws[\"B1\"]=\"職缺連結\"\n",
    "ws[\"C1\"]=\"公司名稱\"\n",
    "ws[\"D1\"]=\"工作地區\"\n",
    "ws[\"E1\"]=\"薪資待遇\"\n",
    "\n",
    "ws.append([\"大數據工程師\",\"https://8.8.8.8\",\"鴻海\",\"台北市\",\"待遇面議\"])\n",
    "\n",
    "   #存檔\n",
    "wb.save(\"py_execl_test_20240629.xlsx\")\n"
   ]
  },
  {
   "cell_type": "code",
   "execution_count": null,
   "id": "c4812d48-d5a9-42cc-996f-3e792f975991",
   "metadata": {},
   "outputs": [],
   "source": []
  }
 ],
 "metadata": {
  "kernelspec": {
   "display_name": "Python 3 (ipykernel)",
   "language": "python",
   "name": "python3"
  },
  "language_info": {
   "codemirror_mode": {
    "name": "ipython",
    "version": 3
   },
   "file_extension": ".py",
   "mimetype": "text/x-python",
   "name": "python",
   "nbconvert_exporter": "python",
   "pygments_lexer": "ipython3",
   "version": "3.11.7"
  }
 },
 "nbformat": 4,
 "nbformat_minor": 5
}
