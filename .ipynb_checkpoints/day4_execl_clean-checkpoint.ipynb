{
 "cells": [
  {
   "cell_type": "code",
   "execution_count": 12,
   "id": "eaa693d8-ab84-4de3-b9d2-71396b18b011",
   "metadata": {},
   "outputs": [
    {
     "name": "stdout",
     "output_type": "stream",
     "text": [
      "50000 50000\n",
      "月薪 50000\n"
     ]
    }
   ],
   "source": [
    "#e=\"待遇面議\"\n",
    "#e=\"月薪38,000~45,000元\"\n",
    "e=\"月薪50,000元以上\"\n",
    "#e=\"論件計酬1元以上\"\n",
    "#e=\"年薪1,000,000~1,500,000元\"\n",
    "#e=\"日薪3,000~20,000元\"\n",
    "\n",
    "#給薪方式\n",
    "payday=e[0:2]\n",
    "\n",
    "#清洗多餘中文符號\n",
    "money=\"\"\n",
    "for clean in e:\n",
    "    if clean.isdigit() or clean==\"~\":\n",
    "        money+=clean\n",
    "\n",
    "#區分薪資範圍\n",
    "if \"~\" in money:\n",
    "    high=money[:money.find(\"~\")]\n",
    "    low=money[money.find(\"~\")+1:]\n",
    "else:\n",
    "    high=money\n",
    "    low=money\n",
    "\n",
    "high=int(high)\n",
    "low=int(low)\n",
    "\n",
    "print(high,low)\n",
    "print(payday,money)\n",
    "\n"
   ]
  },
  {
   "cell_type": "code",
   "execution_count": 8,
   "id": "ccea19a5-db21-44b7-9300-29d1b9b00c87",
   "metadata": {},
   "outputs": [
    {
     "name": "stdout",
     "output_type": "stream",
     "text": [
      "5\n"
     ]
    }
   ],
   "source": [
    "a=\"38000~45000\"\n",
    "\n",
    "\n",
    "print(a.find(\"~\"))"
   ]
  },
  {
   "cell_type": "code",
   "execution_count": null,
   "id": "54fb30d4-e541-4772-9b4f-1ad9504eef18",
   "metadata": {},
   "outputs": [],
   "source": []
  }
 ],
 "metadata": {
  "kernelspec": {
   "display_name": "Python 3 (ipykernel)",
   "language": "python",
   "name": "python3"
  },
  "language_info": {
   "codemirror_mode": {
    "name": "ipython",
    "version": 3
   },
   "file_extension": ".py",
   "mimetype": "text/x-python",
   "name": "python",
   "nbconvert_exporter": "python",
   "pygments_lexer": "ipython3",
   "version": "3.11.7"
  }
 },
 "nbformat": 4,
 "nbformat_minor": 5
}
