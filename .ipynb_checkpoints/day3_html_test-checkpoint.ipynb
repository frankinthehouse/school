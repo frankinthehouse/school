{
 "cells": [
  {
   "cell_type": "code",
   "execution_count": 21,
   "id": "c708bd5a-0271-4005-96e4-45a6116cd010",
   "metadata": {},
   "outputs": [
    {
     "name": "stdout",
     "output_type": "stream",
     "text": [
      "<a> 第4行 </a>\n",
      "<h1 class=\"abc\" href=\"123\">abc</h1>\n",
      "這是一行字\n",
      "這是一行字\n",
      "大數據工程師\n",
      "職缺： \n",
      "None\n"
     ]
    }
   ],
   "source": [
    "web=\"\"\"<html>\n",
    "  <head>\n",
    "     <a href=\"https://www.1111.com.tw/search/job?ks=%E5%A4%A7%E6%95%B8%E6%93%9A\" >這是一行字</a>\n",
    "     <a> 第2行 </a>\n",
    "     <a> 第3行 </a>\n",
    "  </head>\n",
    "  <body>\n",
    "\t<h1 class=\"abc\" href=\"123\">abc</h1>\n",
    "\t<a> 第4行 </a>\n",
    "    <a> 第5行 </a>\n",
    "\t<h1 class=\"job\">職缺：<h2>大數據工程師</h2> </h1>\n",
    "  </body>\n",
    "</html>\n",
    "\"\"\"\n",
    "\n",
    "# bs4 = bs4.BeautifulSoup 的模組 用來轉換html 檔案\n",
    "import bs4\n",
    "\n",
    "soup=bs4.BeautifulSoup(web)\n",
    "\n",
    "#print(type(web),web,soup,soup.body)\n",
    "print(soup.select('a')[3])\n",
    "\n",
    "print(soup.find(\"h1\",class_=\"abc\"))\n",
    "\n",
    "print(soup.a.string)\n",
    "print(soup.a.text)\n",
    "\n",
    "print(soup.find(\"h1\",class_=\"job\").h2.text)\n",
    "\n",
    "                                        #replace 取代   將h2 的內容 取代成空字串 這樣就可以取h1 的內容 \n",
    "print(soup.find(\"h1\",class_=\"job\").text.replace(soup.find(\"h1\",class_=\"job\").h2.text,\"\"))\n",
    "print(soup.find(\"h1\",class_=\"job\").string)"
   ]
  },
  {
   "cell_type": "code",
   "execution_count": null,
   "id": "5e6e3cf4-8565-46f5-b594-aef043b446d1",
   "metadata": {},
   "outputs": [],
   "source": []
  }
 ],
 "metadata": {
  "kernelspec": {
   "display_name": "Python 3 (ipykernel)",
   "language": "python",
   "name": "python3"
  },
  "language_info": {
   "codemirror_mode": {
    "name": "ipython",
    "version": 3
   },
   "file_extension": ".py",
   "mimetype": "text/x-python",
   "name": "python",
   "nbconvert_exporter": "python",
   "pygments_lexer": "ipython3",
   "version": "3.11.7"
  }
 },
 "nbformat": 4,
 "nbformat_minor": 5
}
