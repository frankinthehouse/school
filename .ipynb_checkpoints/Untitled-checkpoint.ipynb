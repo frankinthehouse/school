{
 "cells": [
  {
   "cell_type": "code",
   "execution_count": null,
   "id": "bc5d54e8-b407-4da2-b6f2-753c1775f507",
   "metadata": {},
   "outputs": [],
   "source": [
    "# IMPORT 引用 PYTHON的模組\n",
    "import requests\n",
    "import bs4\n",
    "import openpyxl\n",
    "\n",
    "    #開execl 的新工作區\n",
    "wb=openpyxl.Workbook()\n",
    "\n",
    "    #開工作區的新分頁\n",
    "ws=wb.active\n",
    "\n",
    "ws[\"A1\"]=\"職缺名稱\"\n",
    "ws[\"B1\"]=\"職缺連結\"\n",
    "ws[\"C1\"]=\"公司名稱\"\n",
    "ws[\"D1\"]=\"工作地區\"\n",
    "ws[\"E1\"]=\"薪資待遇\"\n",
    "\n",
    "#ws.append([\"大數據工程師\",\"https://8.8.8.8\",\"鴻海\",\"台北市\",\"待遇面議\"])\n",
    "\n",
    "#   #存檔\n",
    "#wb.save(\"py_execl_test_20240629.xlsx\")\n",
    "\n",
    "# 使用模組裡面的工具，用 \" . \" REQUESTS.GET \n",
    "                  # 網址 # \n",
    "res=requests.get(\"https://www.104.com.tw/jobs/search/?ro=0&keyword=%E5%A4%A7%E6%95%B8%E6%93%9A&expansionType=area%2Cspec%2Ccom%2Cjob%2Cwf%2Cwktm&order=1&asc=0&page=1&mode=s&jobsource=index_s&langFlag=0&langStatus=0&recommendJob=1&hotJob=1\")\n",
    "\n",
    "soup=bs4.BeautifulSoup(res.text)\n",
    "#要查看 返回的內容詳情，後面加 .text\n",
    "#print(soup.find_all(\"a\",class_=\"js-job-link\")[0].text)\n",
    "\n",
    "soup_title=soup.find_all(\"article\")\n",
    "#print(soup.find_all(\"article\",class_=\"b-block--top-bord job-list-item b-clearfix js-job-item\"))\n",
    "\n",
    "page=1\n",
    "while soup.find_all(\"article\",class_=\"b-block--top-bord job-list-item b-clearfix js-job-item\")!=[]:\n",
    "    for go in soup.find_all(\"article\",class_=\"b-block--top-bord job-list-item b-clearfix js-job-item\"):\n",
    "        #print(go.a.text)\n",
    "        #print(\"http:\"+go.a[\"href\"])\n",
    "        #print(go.select(\"a\")[1].text.strip())\n",
    "        #print(go[\"data-cust-name\"])\n",
    "        #print(go.find(\"ul\",class_=\"b-list-inline b-clearfix job-list-intro b-content\").li.text)\n",
    "        #print(go.find(\"div\",class_=\"job-list-tag b-content\").text)\n",
    "        #print(go.find(\"div\",class_=\"job-list-tag b-content\").find(class_=\"b-tag--default\").text)\n",
    "        ws.append([go.a.text,\"http:\"+go.a[\"href\"],go.select(\"a\")[1].text.strip(),go.find(\"ul\",class_=\"b-list-inline b-clearfix job-list-intro b-content\").li.text,go.find(\"div\",class_=\"job-list-tag b-content\").find(class_=\"b-tag--default\").text,])\n",
    "        #if go.find(\"div\",class_=\"job-list-tag b-content\").select(\"span\")!=[] and go.find(\"div\",class_=\"job-list-tag b-content\").span.text==\"待遇面議\":\n",
    "        #    print(go.find(\"div\",class_=\"job-list-tag b-content\").span.text)\n",
    "        #else:\n",
    "        #    print(go.find(\"div\",class_=\"job-list-tag b-content\").a.text)\n",
    "    page+=1\n",
    "    res=requests.get(\"https://www.104.com.tw/jobs/search/?ro=0&kwop=7&keyword=%E5%A4%A7%E6%95%B8%E6%93%9A&expansionType=area%2Cspec%2Ccom%2Cjob%2Cwf%2Cwktm&order=15&asc=0&page=\"+str(page)+\"&mode=s&jobsource=index_s&langFlag=0&langStatus=0&recommendJob=1&hotJob=1\") \n",
    "    soup=bs4.BeautifulSoup(res.text)\n",
    "    print(\"=================================================\")\n",
    "    print(\"正在爬取第\"+str(page)+\"頁\")\n",
    "    print(\"=================================================\")\n",
    "\n",
    "wb.save(\"py_execl_20240629.xlsx\")\n",
    "    "
   ]
  },
  {
   "cell_type": "code",
   "execution_count": null,
   "id": "eb06b269-a519-4d38-8e0a-0d247b2f7e5e",
   "metadata": {},
   "outputs": [],
   "source": []
  }
 ],
 "metadata": {
  "kernelspec": {
   "display_name": "Python 3 (ipykernel)",
   "language": "python",
   "name": "python3"
  },
  "language_info": {
   "codemirror_mode": {
    "name": "ipython",
    "version": 3
   },
   "file_extension": ".py",
   "mimetype": "text/x-python",
   "name": "python",
   "nbconvert_exporter": "python",
   "pygments_lexer": "ipython3",
   "version": "3.11.7"
  }
 },
 "nbformat": 4,
 "nbformat_minor": 5
}
